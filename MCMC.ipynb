{
 "cells": [
  {
   "attachments": {},
   "cell_type": "markdown",
   "metadata": {},
   "source": [
    "## [Accept-Reject Sampling](https://www.youtube.com/watch?v=OXDqjdVVePY)\n",
    "\n",
    "* Sample from a PDF of a distribution $p(s)$ where $p(s) = \\frac{f(s)}{NC}$ and $NC = \\int_{-\\infty}^{\\infty} f(s) ds$ where $f(s)$ is numerator function and $NC$ the (often) intractable normalizing constant\n",
    "* No need to know the CDF or the full PDF (often numerator known, but not normalizing constant)\n",
    "* Accept-Reject Sampling\n",
    "    * Choose another simplier distribution $g(s)$ that is \"close\" (similar in shape) to $p(s)$ and easy to sample from\n",
    "    * Scale $g(s)$ by a factor $M$ such that $M*g(s)$ is always above $f(s)$\n",
    "    * Sample $s \\sim g(s)$ and accept $s$ with the prob. of $P(A) = \\frac{f(s)}{M*g(s)}$\n",
    "    * The accepted samples $s$ resembles samples from the $p(s)$\n",
    "\n",
    "* Why are the accepted samples $s \\sim g(s)$ equal to samples from the intractable $p(s)$?\n",
    "    * Mathematical Proof: $s$ being the sample, $A$ being the event of accepting a sample, $D(x)$ denoting the density function\n",
    "    \n",
    "        \\begin{align}\n",
    "            D(s|A) &= \\frac{P(A|s)D(s)}{P(A)} &= \\frac{\\frac{f(s)}{M*g(s)} * g(s)}{P(A)} &= \\frac{\\frac{f(s)}{M*g(s)} * g(s)}{\\int_{-\\infty}^{\\infty} g(s)*\\frac{f(s)}{M*g(s)}}\\\\\n",
    "            &= \\frac{\\frac{f(s)}{M*g(s)} * g(s)}{\\frac{1}{M} * \\int_{-\\infty}^{\\infty} f(s) ds} &= \\frac{\\frac{f(s)}{M*g(s)} * g(s)}{\\frac{1}{M} * NC} &= \\frac{\\frac{f(s)}{M}}{\\frac{NC}{M}} \\\\\n",
    "            &= \\frac{f(s)}{M} * \\frac{M}{NC} \\\\\n",
    "            &= \\frac{f(s)}{NC} \n",
    "            &= p(s)\\\\\n",
    "        \\end{align}\n",
    "\n",
    "    * Intuitive Explanation: the acceptance probability depends on the ratio $\\frac{f(s)}{g(s)}$ which is high when $f(s)$ is high and $g(s)$ is low\n",
    "        * $f(s)$ is proportional to $p(s)$, so a large $f(s)$ will also result in a high prob. of $p(s)$ => $s$ is very likely in $p(s)$\n",
    "        * $g(s)$ describes the rarity of a $s$, so if $g(s)$ is very small, it´s a very rare sample with a high prob. of being in $p(s)$  according to our ratio, thus we will accept the sample\n",
    "        * $M$ is just a normalizing constant, allowing for interpretation as a probability\n",
    "    \n",
    "    $\\rightarrow$ $\\frac{f(s)}{g(s)}$ will be very high for common samples of $p(s)$ but rarily proposed by $g(s)$, vice-versa the ratio will be very low for uncommon samples of $p(s)$ that are commonly proposed by $g(s)$"
   ]
  },
  {
   "attachments": {},
   "cell_type": "markdown",
   "metadata": {},
   "source": [
    "# Markov Chain Monte Carlo (MCMC) Example\n",
    "\n",
    "MCMC are a type of sampling technique that allows for sampling implicitly from a target complex distribution (e.g. an intractable posterior distribution). The idea is to make use of first order markov chain (allow for correlation between samples) to approximate the intractable distribution $p_{\\theta}(x)$ by sampling multiple iterations until the samples resemble samples from $p_{\\theta}(x)$. The first \"bad\" samples are discarded, this is also called the \"burn-in\" phase. All samples after the \"burn-in\" phase are samples from $p_{\\theta}(x)$, allowing for sampling without computing $p_{\\theta}(x)$.\n",
    "\n",
    "There are multiple ways of doing MCMC sampling, e.g. Metropolis-Hastings, Gibbs Sampling."
   ]
  },
  {
   "attachments": {},
   "cell_type": "markdown",
   "metadata": {},
   "source": [
    "## [Markov Stationary Distribution](https://www.youtube.com/watch?v=4sXiCxZDrTU&list=WL&index=5)\n",
    "\n",
    "* A stationary distribution is a set of state transition probabilities between all these states, where the probability stays the same over multiple Iterations\n",
    "    * $\\pi = [\\pi_1, \\pi_2, ..., \\pi_n]$ for $n$ different states in the markov chain, where $\\pi_n$ describes the transition prob. of the current state to state $n$\n",
    "    * $\\sum_n \\pi_n = 1$ (this makes it a distribution) and $P(X_{t+1} = S) = P(X_{t} = S)$ (transition probabilities $S$ stays the same with increasing timestep $t$)\n",
    "* Computation simplified as finding the left eigenvector of transition Matrix $P$ with eigenvalue 1:\n",
    "    * $\\pi * P = \\pi$ with $\\pi \\in \\mathbb{R}^n$ and $P \\in \\mathbb{R}^{n \\times n}$ (dot product of prob. of being in state $n$ in current $t$ with transition prob. of being in state $n$ in $t+1$)\n",
    "* There is no guarantee that one will arrive at a stationary distribution, if the markov chain runs long enough (convergence not guaranteed)\n",
    "* There are multiple stationary distributions (not unique!)"
   ]
  },
  {
   "attachments": {},
   "cell_type": "markdown",
   "metadata": {},
   "source": [
    "## MCMC Sampling Methods\n",
    "### [Metroplis Hastings](https://www.youtube.com/watch?v=yCv2N7wGDCw&list=WL&index=12)\n",
    "### [Gibbs Sampling](https://www.youtube.com/watch?v=7LB1VHp4tLE)"
   ]
  },
  {
   "attachments": {},
   "cell_type": "markdown",
   "metadata": {},
   "source": [
    "Following Code Example is based on: https://github.com/ritvikmath/YouTubeVideoCode/blob/main/MCMC%20Experiments.ipynb"
   ]
  },
  {
   "cell_type": "code",
   "execution_count": 2,
   "metadata": {},
   "outputs": [],
   "source": [
    "import numpy as np\n",
    "import matplotlib.pyplot as plt\n",
    "from scipy.stats import pearsonr"
   ]
  },
  {
   "cell_type": "code",
   "execution_count": 3,
   "metadata": {},
   "outputs": [],
   "source": [
    "# function for numerator of target distribution\n",
    "def f(x):\n",
    "    if x >= 1:\n",
    "        return np.exp(-(x-1)/2) + np.exp(-(x-1)**2)\n",
    "    else:\n",
    "        return np.exp((x-1)/3) + np.exp((x-1)**3)\n",
    "\n",
    "# normal PDF\n",
    "def g(x, mu, sigma):\n",
    "    return 1/(sigma * np.sqrt(2*np.pi)) * np.exp(-0.5*((x-mu)/sigma)**2)"
   ]
  },
  {
   "attachments": {},
   "cell_type": "markdown",
   "metadata": {},
   "source": [
    "## Draw Target Distribution"
   ]
  },
  {
   "cell_type": "code",
   "execution_count": 10,
   "metadata": {},
   "outputs": [
    {
     "data": {
      "text/plain": [
       "<matplotlib.lines.Line2D at 0x2660735c5e0>"
      ]
     },
     "execution_count": 10,
     "metadata": {},
     "output_type": "execute_result"
    },
    {
     "data": {
      "image/png": "[encoded data removed]",
      "text/plain": [
       "<Figure size 720x288 with 1 Axes>"
      ]
     },
     "metadata": {
      "needs_background": "light"
     },
     "output_type": "display_data"
    }
   ],
   "source": [
    "NORM_CONST = 7.16556 #this is usally unknown for us, since it is the hard part to compute in bayesian inference\n",
    "\n",
    "x_vals = np.arange(-5,15,.1)\n",
    "f_vals = [f(x) for x in x_vals]\n",
    "p_vals = [f/NORM_CONST for f in f_vals]\n",
    "\n",
    "plt.figure(figsize=(10,4))\n",
    "plt.plot(x_vals, f_vals)\n",
    "plt.plot(x_vals, p_vals)\n",
    "plt.legend(['f(x)', 'p(x)'], fontsize=20)\n",
    "plt.xlabel('x', fontsize=20)\n",
    "plt.ylabel('f(x)', fontsize=20)\n",
    "plt.axvline(1, color='r', linestyle='--')\n"
   ]
  }
 ],
 "metadata": {
  "kernelspec": {
   "display_name": "Python 3 (ipykernel)",
   "language": "python",
   "name": "python3"
  },
  "language_info": {
   "codemirror_mode": {
    "name": "ipython",
    "version": 3
   },
   "file_extension": ".py",
   "mimetype": "text/x-python",
   "name": "python",
   "nbconvert_exporter": "python",
   "pygments_lexer": "ipython3",
   "version": "3.10.4"
  }
 },
 "nbformat": 4,
 "nbformat_minor": 2
}
